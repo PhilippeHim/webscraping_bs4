{
 "cells": [
  {
   "cell_type": "code",
   "execution_count": 2,
   "id": "7354cb60",
   "metadata": {},
   "outputs": [],
   "source": [
    "from bs4 import BeautifulSoup"
   ]
  },
  {
   "cell_type": "code",
   "execution_count": 3,
   "id": "d90c7f04",
   "metadata": {},
   "outputs": [
    {
     "ename": "FeatureNotFound",
     "evalue": "Couldn't find a tree builder with the features you requested: html5lib. Do you need to install a parser library?",
     "output_type": "error",
     "traceback": [
      "\u001b[0;31m---------------------------------------------------------------------------\u001b[0m",
      "\u001b[0;31mFeatureNotFound\u001b[0m                           Traceback (most recent call last)",
      "Cell \u001b[0;32mIn[3], line 3\u001b[0m\n\u001b[1;32m      1\u001b[0m \u001b[38;5;66;03m# 1) Ouvrir le fichier HTML et utiliser le parser html5lib\u001b[39;00m\n\u001b[1;32m      2\u001b[0m \u001b[38;5;28;01mwith\u001b[39;00m \u001b[38;5;28mopen\u001b[39m(\u001b[38;5;124m\"\u001b[39m\u001b[38;5;124mbooks.html\u001b[39m\u001b[38;5;124m\"\u001b[39m, \u001b[38;5;124m\"\u001b[39m\u001b[38;5;124mr\u001b[39m\u001b[38;5;124m\"\u001b[39m, encoding\u001b[38;5;241m=\u001b[39m\u001b[38;5;124m\"\u001b[39m\u001b[38;5;124mutf-8\u001b[39m\u001b[38;5;124m\"\u001b[39m) \u001b[38;5;28;01mas\u001b[39;00m f:\n\u001b[0;32m----> 3\u001b[0m     soup \u001b[38;5;241m=\u001b[39m \u001b[43mBeautifulSoup\u001b[49m\u001b[43m(\u001b[49m\u001b[43mf\u001b[49m\u001b[43m,\u001b[49m\u001b[43m \u001b[49m\u001b[38;5;124;43m\"\u001b[39;49m\u001b[38;5;124;43mhtml5lib\u001b[39;49m\u001b[38;5;124;43m\"\u001b[39;49m\u001b[43m)\u001b[49m\n",
      "File \u001b[0;32m/opt/homebrew/Caskroom/miniconda/base/lib/python3.12/site-packages/bs4/__init__.py:250\u001b[0m, in \u001b[0;36mBeautifulSoup.__init__\u001b[0;34m(self, markup, features, builder, parse_only, from_encoding, exclude_encodings, element_classes, **kwargs)\u001b[0m\n\u001b[1;32m    248\u001b[0m     builder_class \u001b[38;5;241m=\u001b[39m builder_registry\u001b[38;5;241m.\u001b[39mlookup(\u001b[38;5;241m*\u001b[39mfeatures)\n\u001b[1;32m    249\u001b[0m     \u001b[38;5;28;01mif\u001b[39;00m builder_class \u001b[38;5;129;01mis\u001b[39;00m \u001b[38;5;28;01mNone\u001b[39;00m:\n\u001b[0;32m--> 250\u001b[0m         \u001b[38;5;28;01mraise\u001b[39;00m FeatureNotFound(\n\u001b[1;32m    251\u001b[0m             \u001b[38;5;124m\"\u001b[39m\u001b[38;5;124mCouldn\u001b[39m\u001b[38;5;124m'\u001b[39m\u001b[38;5;124mt find a tree builder with the features you \u001b[39m\u001b[38;5;124m\"\u001b[39m\n\u001b[1;32m    252\u001b[0m             \u001b[38;5;124m\"\u001b[39m\u001b[38;5;124mrequested: \u001b[39m\u001b[38;5;132;01m%s\u001b[39;00m\u001b[38;5;124m. Do you need to install a parser library?\u001b[39m\u001b[38;5;124m\"\u001b[39m\n\u001b[1;32m    253\u001b[0m             \u001b[38;5;241m%\u001b[39m \u001b[38;5;124m\"\u001b[39m\u001b[38;5;124m,\u001b[39m\u001b[38;5;124m\"\u001b[39m\u001b[38;5;241m.\u001b[39mjoin(features))\n\u001b[1;32m    255\u001b[0m \u001b[38;5;66;03m# At this point either we have a TreeBuilder instance in\u001b[39;00m\n\u001b[1;32m    256\u001b[0m \u001b[38;5;66;03m# builder, or we have a builder_class that we can instantiate\u001b[39;00m\n\u001b[1;32m    257\u001b[0m \u001b[38;5;66;03m# with the remaining **kwargs.\u001b[39;00m\n\u001b[1;32m    258\u001b[0m \u001b[38;5;28;01mif\u001b[39;00m builder \u001b[38;5;129;01mis\u001b[39;00m \u001b[38;5;28;01mNone\u001b[39;00m:\n",
      "\u001b[0;31mFeatureNotFound\u001b[0m: Couldn't find a tree builder with the features you requested: html5lib. Do you need to install a parser library?"
     ]
    }
   ],
   "source": [
    "# 1) Ouvrir le fichier HTML et utiliser le parser html5lib\n",
    "with open(\"books.html\", \"r\", encoding=\"utf-8\") as f:\n",
    "    soup = BeautifulSoup(f, \"html5lib\")\n"
   ]
  },
  {
   "cell_type": "code",
   "execution_count": null,
   "id": "e1f3cb97",
   "metadata": {},
   "outputs": [],
   "source": [
    "# 2) Récupérer la première balise <h1>\n",
    "h1_tag = soup.find(\"h1\")\n"
   ]
  },
  {
   "cell_type": "code",
   "execution_count": null,
   "id": "af6b0eac",
   "metadata": {},
   "outputs": [],
   "source": [
    "# 3) Récupérer le texte du premier <h1> (en évitant les erreurs)\n",
    "h1_text = h1_tag.get_text(strip=True) if h1_tag else None\n",
    "print(\"Texte du premier <h1>:\", h1_text)"
   ]
  },
  {
   "cell_type": "code",
   "execution_count": null,
   "id": "2ad58415",
   "metadata": {},
   "outputs": [],
   "source": [
    "# 4) Récupérer le texte de la première balise <p class=\"price_color\">\n",
    "price_tag = soup.find(\"p\", class_=\"price_color\")\n",
    "price_text = price_tag.get_text(strip=True) if price_tag else None\n",
    "print(\"Texte du premier prix:\", price_text)"
   ]
  },
  {
   "cell_type": "code",
   "execution_count": null,
   "id": "7a474c17",
   "metadata": {},
   "outputs": [],
   "source": [
    "# 5) Récupérer tous les prix avec find_all\n",
    "all_prices = [p.get_text(strip=True) for p in soup.find_all(\"p\", class_=\"price_color\")]\n",
    "print(\"Tous les prix:\", all_prices[:5], \"...\")  # affiche les 5 premiers"
   ]
  },
  {
   "cell_type": "code",
   "execution_count": null,
   "id": "dcb9cbb0",
   "metadata": {},
   "outputs": [],
   "source": [
    "# 6) Créer un sous-objet 'books' pour le conteneur principal\n",
    "#    Tous les livres sont contenus dans la balise <ol class=\"row\">\n",
    "books_container = soup.find(\"ol\", class_=\"row\")"
   ]
  },
  {
   "cell_type": "code",
   "execution_count": null,
   "id": "62225ae1",
   "metadata": {},
   "outputs": [],
   "source": [
    "if books_container:\n",
    "    # On crée un sous-objet BeautifulSoup indépendant\n",
    "    books = BeautifulSoup(str(books_container), \"html5lib\")\n",
    "    print(\"Sous-objet 'books' créé avec succès ✅\")\n",
    "else:\n",
    "    books = None\n",
    "    print(\"⚠️ Conteneur <ol class='row'> introuvable.\")"
   ]
  },
  {
   "cell_type": "code",
   "execution_count": null,
   "id": "16cf8298",
   "metadata": {},
   "outputs": [],
   "source": [
    "# 7) Exemple : utiliser directement books.find_all sur le sous-objet\n",
    "if books:\n",
    "    book_elements = books.find_all(\"article\", class_=\"product_pod\")\n",
    "    print(f\"Nombre de livres trouvés : {len(book_elements)}\")\n",
    "\n",
    "    # Exemple : récupérer les titres\n",
    "    titles = [b.h3.a.get(\"title\") for b in book_elements if b.h3 and b.h3.a]\n",
    "    print(\"Quelques titres:\", titles[:5])\n"
   ]
  }
 ],
 "metadata": {
  "kernelspec": {
   "display_name": "base",
   "language": "python",
   "name": "python3"
  },
  "language_info": {
   "codemirror_mode": {
    "name": "ipython",
    "version": 3
   },
   "file_extension": ".py",
   "mimetype": "text/x-python",
   "name": "python",
   "nbconvert_exporter": "python",
   "pygments_lexer": "ipython3",
   "version": "3.12.4"
  }
 },
 "nbformat": 4,
 "nbformat_minor": 5
}
