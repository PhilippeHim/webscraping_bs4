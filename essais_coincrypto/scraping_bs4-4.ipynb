{
 "cells": [
  {
   "cell_type": "code",
   "execution_count": 6,
   "id": "a7de5d48",
   "metadata": {},
   "outputs": [
    {
     "ename": "HTTPError",
     "evalue": "403 Client Error: Forbidden for url: https://codeavecjonathan.com/scraping/techsport/",
     "output_type": "error",
     "traceback": [
      "\u001b[0;31m---------------------------------------------------------------------------\u001b[0m",
      "\u001b[0;31mHTTPError\u001b[0m                                 Traceback (most recent call last)",
      "Cell \u001b[0;32mIn[6], line 5\u001b[0m\n\u001b[1;32m      3\u001b[0m url \u001b[38;5;241m=\u001b[39m \u001b[38;5;124m\"\u001b[39m\u001b[38;5;124mhttps://codeavecjonathan.com/scraping/techsport/\u001b[39m\u001b[38;5;124m\"\u001b[39m\n\u001b[1;32m      4\u001b[0m response \u001b[38;5;241m=\u001b[39m requests\u001b[38;5;241m.\u001b[39mget(url, timeout\u001b[38;5;241m=\u001b[39m\u001b[38;5;241m20\u001b[39m)\n\u001b[0;32m----> 5\u001b[0m \u001b[43mresponse\u001b[49m\u001b[38;5;241;43m.\u001b[39;49m\u001b[43mraise_for_status\u001b[49m\u001b[43m(\u001b[49m\u001b[43m)\u001b[49m\n\u001b[1;32m      7\u001b[0m \u001b[38;5;66;03m# Enregistrer le code HTML brut\u001b[39;00m\n\u001b[1;32m      8\u001b[0m \u001b[38;5;28;01mwith\u001b[39;00m \u001b[38;5;28mopen\u001b[39m(\u001b[38;5;124m\"\u001b[39m\u001b[38;5;124mtechsport.html\u001b[39m\u001b[38;5;124m\"\u001b[39m, \u001b[38;5;124m\"\u001b[39m\u001b[38;5;124mw\u001b[39m\u001b[38;5;124m\"\u001b[39m, encoding\u001b[38;5;241m=\u001b[39m\u001b[38;5;124m\"\u001b[39m\u001b[38;5;124mutf-8\u001b[39m\u001b[38;5;124m\"\u001b[39m) \u001b[38;5;28;01mas\u001b[39;00m f:\n",
      "File \u001b[0;32m/opt/homebrew/Caskroom/miniconda/base/lib/python3.12/site-packages/requests/models.py:1024\u001b[0m, in \u001b[0;36mResponse.raise_for_status\u001b[0;34m(self)\u001b[0m\n\u001b[1;32m   1019\u001b[0m     http_error_msg \u001b[38;5;241m=\u001b[39m (\n\u001b[1;32m   1020\u001b[0m         \u001b[38;5;124mf\u001b[39m\u001b[38;5;124m\"\u001b[39m\u001b[38;5;132;01m{\u001b[39;00m\u001b[38;5;28mself\u001b[39m\u001b[38;5;241m.\u001b[39mstatus_code\u001b[38;5;132;01m}\u001b[39;00m\u001b[38;5;124m Server Error: \u001b[39m\u001b[38;5;132;01m{\u001b[39;00mreason\u001b[38;5;132;01m}\u001b[39;00m\u001b[38;5;124m for url: \u001b[39m\u001b[38;5;132;01m{\u001b[39;00m\u001b[38;5;28mself\u001b[39m\u001b[38;5;241m.\u001b[39murl\u001b[38;5;132;01m}\u001b[39;00m\u001b[38;5;124m\"\u001b[39m\n\u001b[1;32m   1021\u001b[0m     )\n\u001b[1;32m   1023\u001b[0m \u001b[38;5;28;01mif\u001b[39;00m http_error_msg:\n\u001b[0;32m-> 1024\u001b[0m     \u001b[38;5;28;01mraise\u001b[39;00m HTTPError(http_error_msg, response\u001b[38;5;241m=\u001b[39m\u001b[38;5;28mself\u001b[39m)\n",
      "\u001b[0;31mHTTPError\u001b[0m: 403 Client Error: Forbidden for url: https://codeavecjonathan.com/scraping/techsport/"
     ]
    }
   ],
   "source": [
    "import requests\n",
    "\n",
    "url = \"https://codeavecjonathan.com/scraping/techsport/\"\n",
    "response = requests.get(url, timeout=20)\n",
    "response.raise_for_status()\n",
    "\n",
    "# Enregistrer le code HTML brut\n",
    "with open(\"techsport.html\", \"w\", encoding=\"utf-8\") as f:\n",
    "    f.write(response.text)\n",
    "\n",
    "print(\"✅ Code HTML enregistré sous techsport.html\")\n"
   ]
  },
  {
   "cell_type": "code",
   "execution_count": 2,
   "id": "4c1dcde6",
   "metadata": {},
   "outputs": [
    {
     "ename": "HTTPError",
     "evalue": "403 Client Error: Forbidden for url: https://codeavecjonathan.com/scraping/techsport/",
     "output_type": "error",
     "traceback": [
      "\u001b[0;31m---------------------------------------------------------------------------\u001b[0m",
      "\u001b[0;31mHTTPError\u001b[0m                                 Traceback (most recent call last)",
      "Cell \u001b[0;32mIn[2], line 16\u001b[0m\n\u001b[1;32m     14\u001b[0m \u001b[38;5;66;03m# Requête HTTP\u001b[39;00m\n\u001b[1;32m     15\u001b[0m response \u001b[38;5;241m=\u001b[39m requests\u001b[38;5;241m.\u001b[39mget(url, headers\u001b[38;5;241m=\u001b[39mheaders, timeout\u001b[38;5;241m=\u001b[39m\u001b[38;5;241m20\u001b[39m)\n\u001b[0;32m---> 16\u001b[0m \u001b[43mresponse\u001b[49m\u001b[38;5;241;43m.\u001b[39;49m\u001b[43mraise_for_status\u001b[49m\u001b[43m(\u001b[49m\u001b[43m)\u001b[49m\n\u001b[1;32m     18\u001b[0m \u001b[38;5;66;03m# Sauvegarde du code HTML brut\u001b[39;00m\n\u001b[1;32m     19\u001b[0m \u001b[38;5;28;01mwith\u001b[39;00m \u001b[38;5;28mopen\u001b[39m(\u001b[38;5;124m\"\u001b[39m\u001b[38;5;124mtechsport_useragent.html\u001b[39m\u001b[38;5;124m\"\u001b[39m, \u001b[38;5;124m\"\u001b[39m\u001b[38;5;124mw\u001b[39m\u001b[38;5;124m\"\u001b[39m, encoding\u001b[38;5;241m=\u001b[39m\u001b[38;5;124m\"\u001b[39m\u001b[38;5;124mutf-8\u001b[39m\u001b[38;5;124m\"\u001b[39m) \u001b[38;5;28;01mas\u001b[39;00m f:\n",
      "File \u001b[0;32m/opt/homebrew/Caskroom/miniconda/base/lib/python3.12/site-packages/requests/models.py:1024\u001b[0m, in \u001b[0;36mResponse.raise_for_status\u001b[0;34m(self)\u001b[0m\n\u001b[1;32m   1019\u001b[0m     http_error_msg \u001b[38;5;241m=\u001b[39m (\n\u001b[1;32m   1020\u001b[0m         \u001b[38;5;124mf\u001b[39m\u001b[38;5;124m\"\u001b[39m\u001b[38;5;132;01m{\u001b[39;00m\u001b[38;5;28mself\u001b[39m\u001b[38;5;241m.\u001b[39mstatus_code\u001b[38;5;132;01m}\u001b[39;00m\u001b[38;5;124m Server Error: \u001b[39m\u001b[38;5;132;01m{\u001b[39;00mreason\u001b[38;5;132;01m}\u001b[39;00m\u001b[38;5;124m for url: \u001b[39m\u001b[38;5;132;01m{\u001b[39;00m\u001b[38;5;28mself\u001b[39m\u001b[38;5;241m.\u001b[39murl\u001b[38;5;132;01m}\u001b[39;00m\u001b[38;5;124m\"\u001b[39m\n\u001b[1;32m   1021\u001b[0m     )\n\u001b[1;32m   1023\u001b[0m \u001b[38;5;28;01mif\u001b[39;00m http_error_msg:\n\u001b[0;32m-> 1024\u001b[0m     \u001b[38;5;28;01mraise\u001b[39;00m HTTPError(http_error_msg, response\u001b[38;5;241m=\u001b[39m\u001b[38;5;28mself\u001b[39m)\n",
      "\u001b[0;31mHTTPError\u001b[0m: 403 Client Error: Forbidden for url: https://codeavecjonathan.com/scraping/techsport/"
     ]
    }
   ],
   "source": [
    "import requests\n",
    "\n",
    "url = \"https://codeavecjonathan.com/scraping/techsport/\"\n",
    "\n",
    "# En-tête User-Agent pour se faire passer pour un vrai navigateur\n",
    "headers = {\n",
    "    \"User-Agent\": (\n",
    "        \"Mozilla/5.0 (Macintosh; Intel Mac OS X 10_15_7) \"\n",
    "        \"AppleWebKit/537.36 (KHTML, like Gecko) \"\n",
    "        \"Chrome/118.0.0.0 Safari/537.36\"\n",
    "    )\n",
    "}\n",
    "\n",
    "# Requête HTTP\n",
    "response = requests.get(url, headers=headers, timeout=20)\n",
    "response.raise_for_status()\n",
    "\n",
    "# Sauvegarde du code HTML brut\n",
    "with open(\"techsport_useragent.html\", \"w\", encoding=\"utf-8\") as f:\n",
    "    f.write(response.text)\n",
    "\n",
    "print(\"✅ Code HTML enregistré sous techsport_useragent.html\")\n"
   ]
  },
  {
   "cell_type": "code",
   "execution_count": 8,
   "id": "0f350eef",
   "metadata": {},
   "outputs": [
    {
     "name": "stdout",
     "output_type": "stream",
     "text": [
      "✅ HTML enregistré via requests → techsport.html\n"
     ]
    }
   ],
   "source": [
    "# save_techsport_html.py\n",
    "import time, random\n",
    "import requests\n",
    "from urllib.parse import urlparse\n",
    "\n",
    "URL = \"https://codeavecjonathan.com/scraping/techsport/\"\n",
    "OUT = \"techsport.html\"\n",
    "\n",
    "UA_POOL = [\n",
    "    # Chrome macOS\n",
    "    \"Mozilla/5.0 (Macintosh; Intel Mac OS X 10_15_7) AppleWebKit/537.36 \"\n",
    "    \"(KHTML, like Gecko) Chrome/124.0.0.0 Safari/537.36\",\n",
    "    # Firefox macOS\n",
    "    \"Mozilla/5.0 (Macintosh; Intel Mac OS X 14.0; rv:126.0) Gecko/20100101 Firefox/126.0\",\n",
    "]\n",
    "\n",
    "BASE_HEADERS = {\n",
    "    \"Accept\": \"text/html,application/xhtml+xml,application/xml;q=0.9,image/avif,image/webp,*/*;q=0.8\",\n",
    "    \"Accept-Language\": \"fr-FR,fr;q=0.9,en-US;q=0.8,en;q=0.7\",\n",
    "    \"Upgrade-Insecure-Requests\": \"1\",\n",
    "    \"Cache-Control\": \"no-cache\",\n",
    "    \"Pragma\": \"no-cache\",\n",
    "    \"DNT\": \"1\",\n",
    "    \"Connection\": \"keep-alive\",\n",
    "    \"Accept-Encoding\": \"gzip, deflate, br\",\n",
    "    # Certains WAF regardent ces champs (même s'ils sont très \"Chrome\"):\n",
    "    \"Sec-Fetch-Site\": \"same-origin\",\n",
    "    \"Sec-Fetch-Mode\": \"navigate\",\n",
    "    \"Sec-Fetch-Dest\": \"document\",\n",
    "}\n",
    "\n",
    "def build_headers(url: str) -> dict:\n",
    "    o = urlparse(url)\n",
    "    referer = f\"{o.scheme}://{o.netloc}/\"\n",
    "    h = BASE_HEADERS.copy()\n",
    "    h[\"Referer\"]   = referer\n",
    "    h[\"User-Agent\"] = random.choice(UA_POOL)\n",
    "    return h\n",
    "\n",
    "def try_requests(url: str, out: str, tries: int = 3, timeout: int = 20) -> bool:\n",
    "    s = requests.Session()\n",
    "    for i in range(1, tries + 1):\n",
    "        headers = build_headers(url)\n",
    "        try:\n",
    "            resp = s.get(url, headers=headers, timeout=timeout, allow_redirects=True)\n",
    "            # Certains serveurs renvoient 403/429 -> retenter\n",
    "            if resp.status_code == 200 and resp.text.strip():\n",
    "                with open(out, \"w\", encoding=\"utf-8\") as f:\n",
    "                    f.write(resp.text)\n",
    "                print(f\"✅ HTML enregistré via requests → {out}\")\n",
    "                return True\n",
    "            else:\n",
    "                print(f\"⚠️  Tentative {i}/{tries} : statut {resp.status_code}\")\n",
    "        except requests.RequestException as e:\n",
    "            print(f\"⚠️  Tentative {i}/{tries} : {e}\")\n",
    "        time.sleep(1.2 * i)  # backoff doux\n",
    "    return False\n",
    "\n",
    "def fallback_playwright(url: str, out: str) -> bool:\n",
    "    \"\"\"\n",
    "    Fallback navigateur réel (sans tête).\n",
    "    Nécessite: pip install playwright && playwright install chromium\n",
    "    \"\"\"\n",
    "    try:\n",
    "        from playwright.sync_api import sync_playwright\n",
    "    except ImportError:\n",
    "        print(\"❌ Playwright non installé. Installez-le: pip install playwright && playwright install chromium\")\n",
    "        return False\n",
    "\n",
    "    ua = random.choice(UA_POOL)\n",
    "    with sync_playwright() as p:\n",
    "        browser = p.chromium.launch(headless=True)\n",
    "        page = browser.new_page(user_agent=ua)\n",
    "        # astuce: attendre que le réseau soit au repos pour capter le HTML final\n",
    "        page.goto(url, wait_until=\"networkidle\", timeout=30000)\n",
    "        html = page.content()\n",
    "        with open(out, \"w\", encoding=\"utf-8\") as f:\n",
    "            f.write(html)\n",
    "        browser.close()\n",
    "    print(f\"✅ HTML enregistré via Playwright → {out}\")\n",
    "    return True\n",
    "\n",
    "if __name__ == \"__main__\":\n",
    "    if not try_requests(URL, OUT):\n",
    "        print(\"↩️  Bascule sur Playwright…\")\n",
    "        ok = fallback_playwright(URL, OUT)\n",
    "        if not ok:\n",
    "            raise SystemExit(\"Échec: 403 persistant et Playwright indisponible.\")\n",
    "\n"
   ]
  }
 ],
 "metadata": {
  "kernelspec": {
   "display_name": "base",
   "language": "python",
   "name": "python3"
  },
  "language_info": {
   "codemirror_mode": {
    "name": "ipython",
    "version": 3
   },
   "file_extension": ".py",
   "mimetype": "text/x-python",
   "name": "python",
   "nbconvert_exporter": "python",
   "pygments_lexer": "ipython3",
   "version": "3.12.4"
  }
 },
 "nbformat": 4,
 "nbformat_minor": 5
}
